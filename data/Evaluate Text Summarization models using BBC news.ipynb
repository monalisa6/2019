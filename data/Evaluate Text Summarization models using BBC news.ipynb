{
 "cells": [
  {
   "cell_type": "markdown",
   "metadata": {
    "_uuid": "c19b5a43f3e5fa672c566cfb91f57bd5c7a43fe4"
   },
   "source": [
    "## Evaluate Text Summarization models using BBC news\n",
    "\n",
    "#### BBC news classification\n",
    "#### Automatic Summarization model evaluation\n",
    "#### Use One-vs-the-rest (OvR) multiclass/multilabel strategy as strategy for multiclass classification\n",
    "\n",
    "The objective of this article is to evaluate Text Summarization models by comparing classification accuracy before and after Text Summarization on BBC news.\n",
    "three methods:\n",
    "gensim.summarization\n",
    "simple methods based on word frequency\n",
    "control: random sampling"
   ]
  },
  {
   "cell_type": "markdown",
   "metadata": {
    "_uuid": "9af31c63d6e3144759907876724f2e1dd8908c48"
   },
   "source": [
    "##  Import libraries"
   ]
  },
  {
   "cell_type": "code",
   "execution_count": 31,
   "metadata": {
    "_uuid": "85b3e707bc9abd812f84e4163bb9dd93d5737632"
   },
   "outputs": [],
   "source": [
    "import pandas as pd\n",
    "import numpy as np\n",
    "import matplotlib.pyplot as plt\n",
    "%matplotlib inline\n",
    "import seaborn as sns\n",
    "import re\n",
    "from numpy import random\n",
    "\n",
    "import warnings\n",
    "warnings.filterwarnings('ignore')\n",
    "\n",
    "import os\n",
    "import pandas as pd\n",
    "\n",
    "import nltk\n",
    "from nltk import Text\n",
    "from nltk.tokenize import word_tokenize  \n",
    "from nltk.tokenize import sent_tokenize \n",
    "from nltk.corpus import stopwords\n",
    "from nltk.probability import FreqDist\n",
    "\n",
    "from string import punctuation\n",
    "from heapq import nlargest\n",
    "from collections import defaultdict\n",
    "\n",
    "from sklearn.feature_extraction.text import CountVectorizer\n",
    "from sklearn.feature_extraction.text import TfidfVectorizer\n",
    "\n",
    "from sklearn.naive_bayes import MultinomialNB\n",
    "from sklearn.svm import LinearSVC\n",
    "from sklearn.linear_model import  SGDClassifier \n",
    "from sklearn.multiclass import OneVsRestClassifier\n",
    "\n",
    "from sklearn.metrics import roc_curve, precision_recall_curve,auc\n",
    "from sklearn.metrics import average_precision_score,cohen_kappa_score\n",
    "\n",
    "from sklearn.metrics import accuracy_score,roc_auc_score\n",
    "from sklearn import model_selection\n",
    "from sklearn.model_selection import cross_val_score\n",
    "from sklearn.model_selection import train_test_split\n",
    "\n",
    "from sklearn.pipeline import Pipeline\n",
    "import gensim\n",
    "from gensim.summarization import summarize\n",
    "#from gensim.utils import lemmatize\n",
    "from textblob import TextBlob\n",
    "from textblob import Word"
   ]
  },
  {
   "cell_type": "markdown",
   "metadata": {},
   "source": [
    "### Create dataframe from mulitiple data files. \n",
    "Data source: https://www.bonaccorso.eu/wp-content/uploads/2016/12/bbc.html"
   ]
  },
  {
   "cell_type": "code",
   "execution_count": 60,
   "metadata": {
    "scrolled": false
   },
   "outputs": [
    {
     "name": "stdout",
     "output_type": "stream",
     "text": [
      "done writing csv flie\n"
     ]
    }
   ],
   "source": [
    "data_folder = \"../bbc\"\n",
    "folders = [\"business\",\"entertainment\",\"politics\",\"sport\",\"tech\"]\n",
    "try:\n",
    "    os.chdir(\"../bbc\")\n",
    "except:\n",
    "    os.chdir(\"./bbc\")\n",
    "    \n",
    "x = []\n",
    "y = []\n",
    "\n",
    "for i in folders:\n",
    "    files = os.listdir(i)\n",
    "    for text_file in files:\n",
    "        file_path = i + \"/\" + text_file\n",
    "        with open(file_path) as f:\n",
    "            lines = f.readlines()\n",
    "        record = ' '.join(lines)\n",
    "        x.append(record)\n",
    "        y.append(i)   \n",
    "data = {'news': x, 'type': y}       \n",
    "df = pd.DataFrame(data)\n",
    "df.to_csv('../bbc/dataset.csv', index=False)\n",
    "print ('done writing csv flie')"
   ]
  },
  {
   "cell_type": "markdown",
   "metadata": {
    "_uuid": "6312214fd4d46c67615a173e9e150e2e6872882c"
   },
   "source": [
    "## BBC news cleansing"
   ]
  },
  {
   "cell_type": "code",
   "execution_count": 61,
   "metadata": {
    "_uuid": "6279cf46f5e9ecb3785672bbd189c85bae23c144"
   },
   "outputs": [
    {
     "data": {
      "text/plain": [
       "(2225, 3)"
      ]
     },
     "execution_count": 61,
     "metadata": {},
     "output_type": "execute_result"
    }
   ],
   "source": [
    "news = pd.read_csv('../bbc/dataset.csv', delimiter=',',encoding = \"ISO-8859-1\")\n",
    "# Associate Category names with numerical index and save it in new column category_id\n",
    "news['category_id'] = news['type'].factorize()[0]\n",
    "nRow, nCol = news.shape\n",
    "nRow, nCol"
   ]
  },
  {
   "cell_type": "code",
   "execution_count": 62,
   "metadata": {},
   "outputs": [
    {
     "data": {
      "text/html": [
       "<div>\n",
       "<style scoped>\n",
       "    .dataframe tbody tr th:only-of-type {\n",
       "        vertical-align: middle;\n",
       "    }\n",
       "\n",
       "    .dataframe tbody tr th {\n",
       "        vertical-align: top;\n",
       "    }\n",
       "\n",
       "    .dataframe thead th {\n",
       "        text-align: right;\n",
       "    }\n",
       "</style>\n",
       "<table border=\"1\" class=\"dataframe\">\n",
       "  <thead>\n",
       "    <tr style=\"text-align: right;\">\n",
       "      <th></th>\n",
       "      <th>type</th>\n",
       "      <th>Count</th>\n",
       "    </tr>\n",
       "  </thead>\n",
       "  <tbody>\n",
       "    <tr>\n",
       "      <th>0</th>\n",
       "      <td>business</td>\n",
       "      <td>510</td>\n",
       "    </tr>\n",
       "    <tr>\n",
       "      <th>1</th>\n",
       "      <td>entertainment</td>\n",
       "      <td>386</td>\n",
       "    </tr>\n",
       "    <tr>\n",
       "      <th>2</th>\n",
       "      <td>politics</td>\n",
       "      <td>417</td>\n",
       "    </tr>\n",
       "    <tr>\n",
       "      <th>3</th>\n",
       "      <td>sport</td>\n",
       "      <td>511</td>\n",
       "    </tr>\n",
       "    <tr>\n",
       "      <th>4</th>\n",
       "      <td>tech</td>\n",
       "      <td>401</td>\n",
       "    </tr>\n",
       "  </tbody>\n",
       "</table>\n",
       "</div>"
      ],
      "text/plain": [
       "            type  Count\n",
       "0       business    510\n",
       "1  entertainment    386\n",
       "2       politics    417\n",
       "3          sport    511\n",
       "4           tech    401"
      ]
     },
     "execution_count": 62,
     "metadata": {},
     "output_type": "execute_result"
    }
   ],
   "source": [
    "# creation of the column count for aggregation\n",
    "news['Count']=1\n",
    "news[['type','Count']].groupby(['type'], as_index=False).count()"
   ]
  },
  {
   "cell_type": "markdown",
   "metadata": {},
   "source": [
    "### Pretty balanced "
   ]
  },
  {
   "cell_type": "code",
   "execution_count": 63,
   "metadata": {
    "_uuid": "965692668ef51b4af31aafe6510b7e6669e2af8c"
   },
   "outputs": [
    {
     "data": {
      "text/html": [
       "<div>\n",
       "<style scoped>\n",
       "    .dataframe tbody tr th:only-of-type {\n",
       "        vertical-align: middle;\n",
       "    }\n",
       "\n",
       "    .dataframe tbody tr th {\n",
       "        vertical-align: top;\n",
       "    }\n",
       "\n",
       "    .dataframe thead th {\n",
       "        text-align: right;\n",
       "    }\n",
       "</style>\n",
       "<table border=\"1\" class=\"dataframe\">\n",
       "  <thead>\n",
       "    <tr style=\"text-align: right;\">\n",
       "      <th></th>\n",
       "      <th>news</th>\n",
       "      <th>type</th>\n",
       "      <th>category_id</th>\n",
       "      <th>Count</th>\n",
       "    </tr>\n",
       "  </thead>\n",
       "  <tbody>\n",
       "    <tr>\n",
       "      <th>0</th>\n",
       "      <td>Ad sales boost Time Warner profit\\n \\n Quarter...</td>\n",
       "      <td>business</td>\n",
       "      <td>0</td>\n",
       "      <td>1</td>\n",
       "    </tr>\n",
       "    <tr>\n",
       "      <th>1</th>\n",
       "      <td>Dollar gains on Greenspan speech\\n \\n The doll...</td>\n",
       "      <td>business</td>\n",
       "      <td>0</td>\n",
       "      <td>1</td>\n",
       "    </tr>\n",
       "  </tbody>\n",
       "</table>\n",
       "</div>"
      ],
      "text/plain": [
       "                                                news      type  category_id  \\\n",
       "0  Ad sales boost Time Warner profit\\n \\n Quarter...  business            0   \n",
       "1  Dollar gains on Greenspan speech\\n \\n The doll...  business            0   \n",
       "\n",
       "   Count  \n",
       "0      1  \n",
       "1      1  "
      ]
     },
     "execution_count": 63,
     "metadata": {},
     "output_type": "execute_result"
    }
   ],
   "source": [
    "news.head(2)"
   ]
  },
  {
   "cell_type": "markdown",
   "metadata": {},
   "source": [
    "### Check the news length to make sure they are long enough for our purpose - evaluating text summarization"
   ]
  },
  {
   "cell_type": "code",
   "execution_count": 64,
   "metadata": {},
   "outputs": [
    {
     "data": {
      "text/plain": [
       "1292    507\n",
       "1561    725\n",
       "1515    733\n",
       "1568    746\n",
       "1319    747\n",
       "1503    750\n",
       "1818    761\n",
       "1816    761\n",
       "1810    764\n",
       "1532    766\n",
       "Name: newslen, dtype: int64"
      ]
     },
     "execution_count": 64,
     "metadata": {},
     "output_type": "execute_result"
    }
   ],
   "source": [
    "# keep all\n",
    "news['newslen']=news['news'].apply(lambda x:len(x))\n",
    "#news.sort_values(by='newslen', ascending=True) ##both ways work\n",
    "news['newslen'].sort_values(axis=0, ascending=True)[0:10]"
   ]
  },
  {
   "cell_type": "markdown",
   "metadata": {},
   "source": [
    "**Select text more than one sentence. Gensim will give error for one sentence text**"
   ]
  },
  {
   "cell_type": "code",
   "execution_count": 65,
   "metadata": {},
   "outputs": [],
   "source": [
    "# Use RE to match text with only one appearance of . or ? or ! \n",
    "# [\\w\\W]* will match anything including return\n",
    "news=news[news['news'].str.match(pat ='[\\w\\W]*[.?!][\\w\\W]*[.?!][\\w\\W]*')]\n",
    "# Remove decimal part of a float number. Decimal point is treated as peroid when count sentences during summarization\n",
    "news['news']=news['news'].str.replace('\\.\\d+', ' ', regex=True)\n",
    "# add a space after '.' so Gensim will treat it as a sentence\n",
    "news['news']=news['news'].str.replace('.', '. ', regex=False)\n",
    "news['news']=news['news'].str.replace('?', '? ', regex=False)\n",
    "news['news']=news['news'].str.replace('!', '! ', regex=False)\n"
   ]
  },
  {
   "cell_type": "markdown",
   "metadata": {},
   "source": [
    "### Check any news only has one sentence "
   ]
  },
  {
   "cell_type": "code",
   "execution_count": 66,
   "metadata": {},
   "outputs": [
    {
     "data": {
      "text/plain": [
       "Series([], Name: news, dtype: object)"
      ]
     },
     "execution_count": 66,
     "metadata": {},
     "output_type": "execute_result"
    }
   ],
   "source": [
    "news[~news['news'].str.match(pat ='[\\w\\W]*[.?!][\\w\\W]*[.?!][\\w\\W]*')]['news']"
   ]
  },
  {
   "cell_type": "markdown",
   "metadata": {
    "_uuid": "e73d6c5dc42784220472d05ee8aa819cea41712b"
   },
   "source": [
    "**Plot the count by type**"
   ]
  },
  {
   "cell_type": "code",
   "execution_count": 67,
   "metadata": {
    "scrolled": true
   },
   "outputs": [
    {
     "data": {
      "text/html": [
       "<div>\n",
       "<style scoped>\n",
       "    .dataframe tbody tr th:only-of-type {\n",
       "        vertical-align: middle;\n",
       "    }\n",
       "\n",
       "    .dataframe tbody tr th {\n",
       "        vertical-align: top;\n",
       "    }\n",
       "\n",
       "    .dataframe thead th {\n",
       "        text-align: right;\n",
       "    }\n",
       "</style>\n",
       "<table border=\"1\" class=\"dataframe\">\n",
       "  <thead>\n",
       "    <tr style=\"text-align: right;\">\n",
       "      <th></th>\n",
       "      <th>type</th>\n",
       "      <th>Count</th>\n",
       "    </tr>\n",
       "  </thead>\n",
       "  <tbody>\n",
       "    <tr>\n",
       "      <th>0</th>\n",
       "      <td>business</td>\n",
       "      <td>510</td>\n",
       "    </tr>\n",
       "    <tr>\n",
       "      <th>1</th>\n",
       "      <td>entertainment</td>\n",
       "      <td>386</td>\n",
       "    </tr>\n",
       "    <tr>\n",
       "      <th>2</th>\n",
       "      <td>politics</td>\n",
       "      <td>417</td>\n",
       "    </tr>\n",
       "    <tr>\n",
       "      <th>3</th>\n",
       "      <td>sport</td>\n",
       "      <td>511</td>\n",
       "    </tr>\n",
       "    <tr>\n",
       "      <th>4</th>\n",
       "      <td>tech</td>\n",
       "      <td>401</td>\n",
       "    </tr>\n",
       "  </tbody>\n",
       "</table>\n",
       "</div>"
      ],
      "text/plain": [
       "            type  Count\n",
       "0       business    510\n",
       "1  entertainment    386\n",
       "2       politics    417\n",
       "3          sport    511\n",
       "4           tech    401"
      ]
     },
     "execution_count": 67,
     "metadata": {},
     "output_type": "execute_result"
    }
   ],
   "source": [
    "newsbyType=news.groupby('type', as_index=False).agg({\"Count\": \"sum\"})\n",
    "newsbyType.head()"
   ]
  },
  {
   "cell_type": "code",
   "execution_count": 68,
   "metadata": {
    "_uuid": "d2b6c164e3b863101f884d0def2d4d4fb81df492"
   },
   "outputs": [
    {
     "data": {
      "image/png": "[encoded data removed]",
      "text/plain": [
       "<Figure size 576x360 with 1 Axes>"
      ]
     },
     "metadata": {
      "needs_background": "light"
     },
     "output_type": "display_data"
    }
   ],
   "source": [
    "newsbyType.plot(x='type', y='Count', kind='bar', legend=False, grid=True, figsize=(8, 5))\n",
    "plt.title(\"Number of news per type\")\n",
    "plt.ylabel('# of Occurrences', fontsize=12)\n",
    "plt.xlabel('News Type', fontsize=12)\n",
    "plt.show()"
   ]
  },
  {
   "cell_type": "code",
   "execution_count": 69,
   "metadata": {
    "scrolled": true
   },
   "outputs": [
    {
     "data": {
      "text/plain": [
       "0    Ad sales boost Time Warner profit\\n \\n Quarter...\n",
       "1    Dollar gains on Greenspan speech\\n \\n The doll...\n",
       "2    Yukos unit buyer faces loan claim\\n \\n The own...\n",
       "3    High fuel prices hit BA's profits\\n \\n British...\n",
       "Name: news, dtype: object"
      ]
     },
     "execution_count": 69,
     "metadata": {},
     "output_type": "execute_result"
    }
   ],
   "source": [
    "news['news'][:4]"
   ]
  },
  {
   "cell_type": "markdown",
   "metadata": {},
   "source": [
    "### Clean the news text field"
   ]
  },
  {
   "cell_type": "code",
   "execution_count": 70,
   "metadata": {
    "_uuid": "fca82486e7d5245872c5fa638cc42135a387f30e"
   },
   "outputs": [],
   "source": [
    "# function for cleaning the plots of the movies\n",
    "def clean_text(text):\n",
    "    text = text.lower()\n",
    "    text = re.sub(r\"what's\", \"what is \", text)\n",
    "    text = re.sub(r\"\\'s\", \" \", text)\n",
    "    text = re.sub(r\"\\'ve\", \" have \", text)\n",
    "    text = re.sub(r\"can't\", \"can not \", text)\n",
    "    text = re.sub(r\"n't\", \" not \", text)\n",
    "    text = re.sub(r\"i'm\", \"i am \", text)\n",
    "    text = re.sub(r\"\\'re\", \" are \", text)\n",
    "    text = re.sub(r\"\\'d\", \" would \", text)\n",
    "    text = re.sub(r\"\\'ll\", \" will \", text)\n",
    "    text = re.sub(r\"\\'scuse\", \" excuse \", text)\n",
    "    text = text.strip(' ')# remove the leading and trailing space\n",
    "    letteronly = re.compile('[^a-z #+_]') # only keep letters and a few symbol.\n",
    "    text = letteronly.sub(' ', text) \n",
    "\n",
    "    \n",
    "    #lemmatize\n",
    "    #lemmatized_out = [wd.decode('utf-8').split('/')[0] for wd in lemmatize(text)] # give error in python3.7\n",
    "\n",
    "    sent = TextBlob(text)\n",
    "    tag_dict = {\"J\": 'a', \n",
    "                \"N\": 'n', \n",
    "                \"V\": 'v', \n",
    "                \"R\": 'r'}\n",
    "    words_and_tags = [(w, tag_dict.get(pos[0], 'n')) for w, pos in sent.tags]    \n",
    "    words  = [wd.lemmatize(tag) for wd, tag in words_and_tags]\n",
    "    return \" \".join(words)\n"
   ]
  },
  {
   "cell_type": "code",
   "execution_count": 71,
   "metadata": {
    "_uuid": "ddc7914a1f6a5b52d33dbde9f9a548daec0ffed5"
   },
   "outputs": [],
   "source": [
    "news['newsClean'] = news['news'].apply(clean_text)"
   ]
  },
  {
   "cell_type": "code",
   "execution_count": 72,
   "metadata": {},
   "outputs": [
    {
     "data": {
      "text/plain": [
       "array(['ad sale boost time warner profit quarterly profit at u medium giant timewarner jump to bn m for the three month to december from m year earlier the firm which be now one of the big investor in google benefit from sale of high speed internet connection and high advert sale timewarner say fourth quarter sale rise to bn from bn it profit be buoy by one off gain which offset a profit dip at warner bros and less user for aol time warner say on friday that it now own of search engine google but it own internet business aol have have mix fortune it lose subscriber in the fourth quarter profit be low than in the preceding three quarter however the company say aol underlying profit before exceptional item rise on the back of strong internet advertising revenue it hop to increase subscriber by offer the online service free to timewarner internet customer and will try to sign up aol exist customer for high speed broadband timewarner also have to restate and result follow a probe by the u security exchange commission sec which be close to conclude time warner fourth quarter profit be slightly good than analyst expectation but it film division saw profit slump to m help by box office flop alexander and catwoman a sharp contrast to year earlier when the third and final film in the lord of the ring trilogy boost result for the full year timewarner post a profit of bn up from it performance while revenue grow to bn our financial performance be strong meeting or exceed all of our full year objective and greatly enhance our flexibility chairman and chief executive richard parson say for timewarner be project operate earnings growth of around and also expect high revenue and wider profit margin timewarner be to restate it account a part of effort to resolve an inquiry into aol by u market regulator it have already offer to pay m to settle charge in a deal that be under review by the sec the company say it be unable to estimate the amount it need to set aside for legal reserve which it previously set at m it intend to adjust the way it account for a deal with german music publisher bertelsmann purchase of a stake in aol europe which it have report a advertising revenue it will now book the sale of it stake in aol europe a a loss on the value of that stake',\n",
       "       'dollar gain on greenspan speech the dollar have hit it high level against the euro in almost three month after the federal reserve head say the u trade deficit be set to stabilise and alan greenspan highlight the u government willingness to curb spending and rise household saving a factor which may help to reduce it in late trading in new york the dollar reach against the euro from on thursday market concern about the deficit have hit the greenback in recent month on friday federal reserve chairman mr greenspan speech in london ahead of the meeting of g finance minister send the dollar high after it have earlier tumble on the back of bad than expect u job data i think the chairman take a much more sanguine view on the current account deficit than he take for some time say robert sinche head of currency strategy at bank of america in new york he take a long term view lay out a set of condition under which the current account deficit can improve this year and next worry about the deficit concern about china do however remain china currency remain peg to the dollar and the u currency sharp fall in recent month have therefore make chinese export price highly competitive but call for a shift in beijing policy have fall on deaf ear despite recent comment in a major chinese newspaper that the time be ripe for a loosening of the peg the g meeting be think unlikely to produce any meaningful movement in chinese policy in the meantime the u federal reserve decision on february to boost interest rate by a quarter of a point the sixth such move in as many month have open up a differential with european rate the half point window some believe could be enough to keep u asset look more attractive and could help prop up the dollar the recent fall have partly be the result of big budget deficit as well a the u yawn current account gap both of which need to be fund by the buying of u bond and asset by foreign firm and government the white house will announce it budget on monday and many commentator believe the deficit will remain at close to half a trillion dollar'],\n",
       "      dtype=object)"
      ]
     },
     "execution_count": 72,
     "metadata": {},
     "output_type": "execute_result"
    }
   ],
   "source": [
    "news.newsClean[0:2].values"
   ]
  },
  {
   "cell_type": "markdown",
   "metadata": {},
   "source": [
    "### get_dummies for target column"
   ]
  },
  {
   "cell_type": "code",
   "execution_count": 73,
   "metadata": {},
   "outputs": [
    {
     "data": {
      "text/plain": [
       "Index(['news', 'category_id', 'Count', 'newslen', 'newsClean', 'type_business',\n",
       "       'type_entertainment', 'type_politics', 'type_sport', 'type_tech'],\n",
       "      dtype='object')"
      ]
     },
     "execution_count": 73,
     "metadata": {},
     "output_type": "execute_result"
    }
   ],
   "source": [
    "news=pd.get_dummies(data=news, columns=['type'])\n",
    "news.columns"
   ]
  },
  {
   "cell_type": "markdown",
   "metadata": {},
   "source": [
    "## Model Training and Evaluation\n",
    "### We will try 3 different classification models on the data : \n",
    "            LinearSVC\n",
    "            SGDClassifier\n",
    "            MultinomialNB (Naive Bayes)\n",
    "### One-vs-the-rest (OvR) multiclass/multilabel strategy is the most commonly used strategy for multiclass classification and is a fair default choice."
   ]
  },
  {
   "cell_type": "code",
   "execution_count": 74,
   "metadata": {},
   "outputs": [],
   "source": [
    "X_train,X_test,y_train,y_test =  train_test_split(news['newsClean'],news.iloc[:,5:10], random_state=42, test_size=0.20, shuffle=True)"
   ]
  },
  {
   "cell_type": "markdown",
   "metadata": {},
   "source": [
    "### Use pipeline link preprocessing TFIDF and model fitting in a proper way so no data leaking from test to train"
   ]
  },
  {
   "cell_type": "code",
   "execution_count": 75,
   "metadata": {},
   "outputs": [],
   "source": [
    "def DoClassification (model,method):\n",
    "    pipeline = Pipeline([\n",
    "    ('tfidf', TfidfVectorizer(stop_words ='english',min_df=8, smooth_idf=False, sublinear_tf=False, norm=None, analyzer='word')),\n",
    "    ('clf', model)])\n",
    "    if method=='predit':\n",
    "        y_score = pipeline.fit(X_train, y_train).predict(X_test)\n",
    "    elif method=='predit_proba':\n",
    "        y_score = pipeline.fit(X_train, y_train).predict_proba(X_test)\n",
    "    elif method=='decision_function':\n",
    "        y_score = pipeline.fit(X_train, y_train).decision_function(X_test)\n",
    "    return(y_score )"
   ]
  },
  {
   "cell_type": "markdown",
   "metadata": {},
   "source": [
    "### Create a dataframe to hold all scores"
   ]
  },
  {
   "cell_type": "code",
   "execution_count": 76,
   "metadata": {},
   "outputs": [],
   "source": [
    "accuracy_classifier= pd.DataFrame(columns = ['type']) "
   ]
  },
  {
   "cell_type": "markdown",
   "metadata": {},
   "source": [
    "### Compute performance metrics for each class"
   ]
  },
  {
   "cell_type": "code",
   "execution_count": 77,
   "metadata": {},
   "outputs": [],
   "source": [
    "def computeMetrics (metrics,y_score,classifiername):\n",
    "    score = dict()\n",
    "    for i in range(len(y_train.columns)):\n",
    "        score[i] = metrics(y_test.iloc[:,i], y_score[:,i])\n",
    "        accuracy_classifier.loc[i,'type'] = y_train.columns[i]\n",
    "        accuracy_classifier.loc[i,classifiername+'_'+ metrics.__name__]=score[i]"
   ]
  },
  {
   "cell_type": "markdown",
   "metadata": {},
   "source": [
    "### MultinomialNB"
   ]
  },
  {
   "cell_type": "markdown",
   "metadata": {},
   "source": [
    "** Average_precision_score is used since it handles unbalanced classes well. roc_auc_score and cohen_kappa_score can be tried for comparison. Cohen’s kappa statistic is a very good measure that can handle well both multi-class and imbalanced class problems. **"
   ]
  },
  {
   "cell_type": "code",
   "execution_count": 78,
   "metadata": {},
   "outputs": [],
   "source": [
    "### Multinomial Naive Bayes\n",
    "classifier =OneVsRestClassifier(MultinomialNB())\n",
    "y_score=DoClassification(classifier,'predit_proba' )\n",
    "computeMetrics(average_precision_score,y_score,'multinomialNB')"
   ]
  },
  {
   "cell_type": "markdown",
   "metadata": {
    "_uuid": "6b94e663455f5d0813192640a975e1b282416044"
   },
   "source": [
    "### Linear Support Vector Classifier"
   ]
  },
  {
   "cell_type": "code",
   "execution_count": 79,
   "metadata": {
    "_uuid": "a2f955707916b32d2e6f83d10056ab18c4a3a374"
   },
   "outputs": [],
   "source": [
    "classifier=OneVsRestClassifier(LinearSVC(), n_jobs=1)\n",
    "y_score=DoClassification(classifier,'predit' )\n",
    "computeMetrics(average_precision_score,y_score,'LinearSVC')"
   ]
  },
  {
   "cell_type": "markdown",
   "metadata": {},
   "source": [
    "### SGDClassifier \n",
    "**faster than LinearSVC**"
   ]
  },
  {
   "cell_type": "code",
   "execution_count": 80,
   "metadata": {
    "_uuid": "a0138fcbc84bf5602c34be07c222e0b7c6d80358",
    "scrolled": true
   },
   "outputs": [],
   "source": [
    "classifier=OneVsRestClassifier(SGDClassifier(), n_jobs=1)\n",
    "y_score=DoClassification(classifier,'decision_function' )\n",
    "computeMetrics(average_precision_score,y_score,'SGDClassifier')"
   ]
  },
  {
   "cell_type": "code",
   "execution_count": 81,
   "metadata": {
    "_uuid": "c5cbd59744055a843af27e963ce30adb678bf3c2"
   },
   "outputs": [
    {
     "data": {
      "text/html": [
       "<div>\n",
       "<style scoped>\n",
       "    .dataframe tbody tr th:only-of-type {\n",
       "        vertical-align: middle;\n",
       "    }\n",
       "\n",
       "    .dataframe tbody tr th {\n",
       "        vertical-align: top;\n",
       "    }\n",
       "\n",
       "    .dataframe thead th {\n",
       "        text-align: right;\n",
       "    }\n",
       "</style>\n",
       "<table border=\"1\" class=\"dataframe\">\n",
       "  <thead>\n",
       "    <tr style=\"text-align: right;\">\n",
       "      <th></th>\n",
       "      <th>type</th>\n",
       "      <th>multinomialNB_average_precision_score</th>\n",
       "      <th>LinearSVC_average_precision_score</th>\n",
       "      <th>SGDClassifier_average_precision_score</th>\n",
       "    </tr>\n",
       "  </thead>\n",
       "  <tbody>\n",
       "    <tr>\n",
       "      <th>0</th>\n",
       "      <td>type_business</td>\n",
       "      <td>0.912010</td>\n",
       "      <td>0.892585</td>\n",
       "      <td>0.971753</td>\n",
       "    </tr>\n",
       "    <tr>\n",
       "      <th>1</th>\n",
       "      <td>type_entertainment</td>\n",
       "      <td>0.967122</td>\n",
       "      <td>0.928107</td>\n",
       "      <td>0.963583</td>\n",
       "    </tr>\n",
       "    <tr>\n",
       "      <th>2</th>\n",
       "      <td>type_politics</td>\n",
       "      <td>0.883380</td>\n",
       "      <td>0.941654</td>\n",
       "      <td>0.964069</td>\n",
       "    </tr>\n",
       "    <tr>\n",
       "      <th>3</th>\n",
       "      <td>type_sport</td>\n",
       "      <td>0.999905</td>\n",
       "      <td>0.982735</td>\n",
       "      <td>0.998127</td>\n",
       "    </tr>\n",
       "    <tr>\n",
       "      <th>4</th>\n",
       "      <td>type_tech</td>\n",
       "      <td>0.908059</td>\n",
       "      <td>0.956902</td>\n",
       "      <td>0.960112</td>\n",
       "    </tr>\n",
       "  </tbody>\n",
       "</table>\n",
       "</div>"
      ],
      "text/plain": [
       "                 type  multinomialNB_average_precision_score  \\\n",
       "0       type_business                               0.912010   \n",
       "1  type_entertainment                               0.967122   \n",
       "2       type_politics                               0.883380   \n",
       "3          type_sport                               0.999905   \n",
       "4           type_tech                               0.908059   \n",
       "\n",
       "   LinearSVC_average_precision_score  SGDClassifier_average_precision_score  \n",
       "0                           0.892585                               0.971753  \n",
       "1                           0.928107                               0.963583  \n",
       "2                           0.941654                               0.964069  \n",
       "3                           0.982735                               0.998127  \n",
       "4                           0.956902                               0.960112  "
      ]
     },
     "execution_count": 81,
     "metadata": {},
     "output_type": "execute_result"
    }
   ],
   "source": [
    "accuracy_classifier"
   ]
  },
  {
   "cell_type": "markdown",
   "metadata": {},
   "source": [
    "### SGDClassifier has highest scores. Will use it in later steps to evaluate Summarization models"
   ]
  },
  {
   "cell_type": "markdown",
   "metadata": {},
   "source": [
    "### Evaluate Text Summarization models"
   ]
  },
  {
   "cell_type": "markdown",
   "metadata": {
    "collapsed": true
   },
   "source": [
    "**Gensim**"
   ]
  },
  {
   "cell_type": "code",
   "execution_count": 82,
   "metadata": {},
   "outputs": [
    {
     "data": {
      "text/plain": [
       "(2225, 10)"
      ]
     },
     "execution_count": 82,
     "metadata": {},
     "output_type": "execute_result"
    }
   ],
   "source": [
    "news.shape"
   ]
  },
  {
   "cell_type": "code",
   "execution_count": 83,
   "metadata": {
    "scrolled": false
   },
   "outputs": [],
   "source": [
    "news['newsSum']=news['news'].apply(lambda x:summarize(x,ratio=0.15)) ## default ratio=0.2"
   ]
  },
  {
   "cell_type": "markdown",
   "metadata": {},
   "source": [
    "**Take a look at the Summarization**"
   ]
  },
  {
   "cell_type": "code",
   "execution_count": 84,
   "metadata": {},
   "outputs": [
    {
     "data": {
      "text/plain": [
       "array(['BMW drives record sales in Asia\\n \\n BMW has forecast sales growth of at least 10% in Asia this year after registering record sales there in 2004. \\n \\n The luxury carmaker saw strong sales of its three marques - BMW, Mini and Rolls-Royce - in Asia last year after the launch of three new models.  The company, which is vying with Mercedes-Benz for the title of leading premium carmaker, is confident about its prospects for the region in 2005.  It is launching a revamped version of its 3-Series saloon class next month. \\n \\n BMW sold nearly 95,000 cars in Asia last year, up 2 % on 2003. \\n \\n BMW-brand sales rose 2 % to 80,600 while sales of Mini models rose 3 % to 14,800.  There was also a significant increase in sales of Rolls-Royces on the continent.  BMW sold more than 100 of the iconic models compared with just ten the previous year.  The German carmaker is aiming to boost annual sales in Asia to 150,000 by 2008.  \"Here in Asia, we consider a double-digit increase in retail on the order of 10 to 15% to be realistic on the basis of current features,\" said Helmut Panke, BMW\\'s group chief executive. \\n \\n China remains the main area of concern for BMW after sales there fell 16% last year.  However, BMW is hopeful of a much better year in 2005 as its direct investment in China begins to pay dividends.  The company only began assembling luxury high-powered sedans in China in 2003.  2004 was generally a good year for BMW, which saw revenues from its core car-making operations rise 11%. \\n'],\n",
       "      dtype=object)"
      ]
     },
     "execution_count": 84,
     "metadata": {},
     "output_type": "execute_result"
    }
   ],
   "source": [
    "news['news'].iloc[55:56].values\n"
   ]
  },
  {
   "cell_type": "code",
   "execution_count": 85,
   "metadata": {},
   "outputs": [
    {
     "data": {
      "text/plain": [
       "array(['The luxury carmaker saw strong sales of its three marques - BMW, Mini and Rolls-Royce - in Asia last year after the launch of three new models.\\nBMW-brand sales rose 2 % to 80,600 while sales of Mini models rose 3 % to 14,800.'],\n",
       "      dtype=object)"
      ]
     },
     "execution_count": 85,
     "metadata": {},
     "output_type": "execute_result"
    }
   ],
   "source": [
    "news['newsSum'].iloc[55:56].values"
   ]
  },
  {
   "cell_type": "markdown",
   "metadata": {},
   "source": [
    "### Clean the Summarization text field"
   ]
  },
  {
   "cell_type": "code",
   "execution_count": 86,
   "metadata": {},
   "outputs": [],
   "source": [
    "news['newsSumClean'] = news['newsSum'].apply(clean_text)"
   ]
  },
  {
   "cell_type": "code",
   "execution_count": 87,
   "metadata": {},
   "outputs": [
    {
     "data": {
      "text/plain": [
       "array(['the luxury carmaker saw strong sale of it three marque bmw mini and roll royce in asia last year after the launch of three new model bmw brand sale rise to while sale of mini model rise to'],\n",
       "      dtype=object)"
      ]
     },
     "execution_count": 87,
     "metadata": {},
     "output_type": "execute_result"
    }
   ],
   "source": [
    "news['newsSumClean'].iloc[55:56].values"
   ]
  },
  {
   "cell_type": "markdown",
   "metadata": {},
   "source": [
    "### Repeat the classifier evaluation using SGDClassifier on Summarization text using gensim summarizer"
   ]
  },
  {
   "cell_type": "code",
   "execution_count": 88,
   "metadata": {},
   "outputs": [],
   "source": [
    "X_train,X_test,y_train,y_test =  train_test_split(news['newsSumClean'],news.iloc[:,5:10], random_state=42, test_size=0.20, shuffle=True)"
   ]
  },
  {
   "cell_type": "code",
   "execution_count": 90,
   "metadata": {},
   "outputs": [],
   "source": [
    "classifier=OneVsRestClassifier(SGDClassifier(), n_jobs=1)\n",
    "y_score=DoClassification(classifier,'decision_function' )\n",
    "computeMetrics(average_precision_score,y_score,'SGD_Sum')"
   ]
  },
  {
   "cell_type": "code",
   "execution_count": 91,
   "metadata": {},
   "outputs": [
    {
     "data": {
      "text/html": [
       "<div>\n",
       "<style scoped>\n",
       "    .dataframe tbody tr th:only-of-type {\n",
       "        vertical-align: middle;\n",
       "    }\n",
       "\n",
       "    .dataframe tbody tr th {\n",
       "        vertical-align: top;\n",
       "    }\n",
       "\n",
       "    .dataframe thead th {\n",
       "        text-align: right;\n",
       "    }\n",
       "</style>\n",
       "<table border=\"1\" class=\"dataframe\">\n",
       "  <thead>\n",
       "    <tr style=\"text-align: right;\">\n",
       "      <th></th>\n",
       "      <th>type</th>\n",
       "      <th>multinomialNB_average_precision_score</th>\n",
       "      <th>LinearSVC_average_precision_score</th>\n",
       "      <th>SGDClassifier_average_precision_score</th>\n",
       "      <th>SGD_Sum_average_precision_score</th>\n",
       "    </tr>\n",
       "  </thead>\n",
       "  <tbody>\n",
       "    <tr>\n",
       "      <th>0</th>\n",
       "      <td>type_business</td>\n",
       "      <td>0.912010</td>\n",
       "      <td>0.892585</td>\n",
       "      <td>0.971753</td>\n",
       "      <td>0.916106</td>\n",
       "    </tr>\n",
       "    <tr>\n",
       "      <th>1</th>\n",
       "      <td>type_entertainment</td>\n",
       "      <td>0.967122</td>\n",
       "      <td>0.928107</td>\n",
       "      <td>0.963583</td>\n",
       "      <td>0.855703</td>\n",
       "    </tr>\n",
       "    <tr>\n",
       "      <th>2</th>\n",
       "      <td>type_politics</td>\n",
       "      <td>0.883380</td>\n",
       "      <td>0.941654</td>\n",
       "      <td>0.964069</td>\n",
       "      <td>0.900686</td>\n",
       "    </tr>\n",
       "    <tr>\n",
       "      <th>3</th>\n",
       "      <td>type_sport</td>\n",
       "      <td>0.999905</td>\n",
       "      <td>0.982735</td>\n",
       "      <td>0.998127</td>\n",
       "      <td>0.950188</td>\n",
       "    </tr>\n",
       "    <tr>\n",
       "      <th>4</th>\n",
       "      <td>type_tech</td>\n",
       "      <td>0.908059</td>\n",
       "      <td>0.956902</td>\n",
       "      <td>0.960112</td>\n",
       "      <td>0.934869</td>\n",
       "    </tr>\n",
       "  </tbody>\n",
       "</table>\n",
       "</div>"
      ],
      "text/plain": [
       "                 type  multinomialNB_average_precision_score  \\\n",
       "0       type_business                               0.912010   \n",
       "1  type_entertainment                               0.967122   \n",
       "2       type_politics                               0.883380   \n",
       "3          type_sport                               0.999905   \n",
       "4           type_tech                               0.908059   \n",
       "\n",
       "   LinearSVC_average_precision_score  SGDClassifier_average_precision_score  \\\n",
       "0                           0.892585                               0.971753   \n",
       "1                           0.928107                               0.963583   \n",
       "2                           0.941654                               0.964069   \n",
       "3                           0.982735                               0.998127   \n",
       "4                           0.956902                               0.960112   \n",
       "\n",
       "   SGD_Sum_average_precision_score  \n",
       "0                         0.916106  \n",
       "1                         0.855703  \n",
       "2                         0.900686  \n",
       "3                         0.950188  \n",
       "4                         0.934869  "
      ]
     },
     "execution_count": 91,
     "metadata": {},
     "output_type": "execute_result"
    }
   ],
   "source": [
    "accuracy_classifier"
   ]
  },
  {
   "cell_type": "markdown",
   "metadata": {},
   "source": [
    "### A simple summarizer using sentence ranking=sum(word frequency) to select top sentences with high ranking. Can be customized to more complex calculation"
   ]
  },
  {
   "cell_type": "code",
   "execution_count": 92,
   "metadata": {},
   "outputs": [],
   "source": [
    "def read_file(path):\n",
    "    \"\"\" Read the file at designated path and throw exception if unable to do so \"\"\" \n",
    "    try:\n",
    "        with open(path, 'r') as file:\n",
    "            return file.read()\n",
    "\n",
    "    except IOError as e:\n",
    "        print(\"Fatal Error: File ({}) could not be locaeted or is not readable.\".format(path))\n",
    "\n",
    "def tokenize_content(content):\n",
    "    \"\"\"\n",
    "    Accept the content and produce a list of tokenized sentences, \n",
    "    a list of tokenized words, and then a list of the tokenized words\n",
    "    with stop words built from NLTK corpus and Python string class filtred out. \n",
    "    \"\"\"\n",
    "    stop_words =stopwords.words('english')\n",
    "    words = word_tokenize(content) \n",
    "    return [\n",
    "        sent_tokenize(content),\n",
    "        [word for word in words if word not in stop_words]    \n",
    "    ]\n",
    "\n",
    "def score_tokens(filterd_words, sentence_tokens):\n",
    "    \"\"\"\n",
    "    Builds a frequency map based on the filtered list of words and \n",
    "    uses this to produce a map of each sentence and its total score\n",
    "    \"\"\"\n",
    "    word_freq = FreqDist(filterd_words)\n",
    "\n",
    "    ranking = defaultdict(int)\n",
    "\n",
    "    for i, sentence in enumerate(sentence_tokens):\n",
    "        for word in word_tokenize(sentence.lower()):\n",
    "            if word in word_freq:\n",
    "                ranking[i] += word_freq[word]\n",
    "\n",
    "    return ranking\n",
    "\n",
    "def simplesummarize(content):\n",
    "    \"\"\"\n",
    "    Utilizes a ranking map produced by score_token to extract\n",
    "    the highest ranking sentences in order after converting from\n",
    "    array to string.  \n",
    "    \"\"\"\n",
    "    ranks=score_tokens(tokenize_content(content)[1], tokenize_content(content)[0])\n",
    "    sentences=tokenize_content(content)[0]\n",
    "    l= lambda x: int(len(x) * 0.15) if int(len(x) * 0.15) >=1 else 1 ## at least one sentence  \n",
    "    length=l(sentences)\n",
    "    indexes = nlargest(length, ranks, key=ranks.get)\n",
    "    final_sentences = [sentences[j] for j in sorted(indexes)]\n",
    "    return ' '.join(final_sentences) \n",
    "\n",
    "def randomsample(content):\n",
    "    \"\"\"\n",
    "    Baseline summarizer\n",
    "    Randomly select 15% sentences.  \n",
    "    \"\"\"\n",
    "    sentences=tokenize_content(content)[0]\n",
    "    l= lambda x: int(len(x) * 0.15) if int(len(x) * 0.15) >=1 else 1 ## at least one sentence  \n",
    "    length=l(sentences)\n",
    "    indexes = random.choice(list(range(len(sentences))), length)\n",
    "    final_sentences = [sentences[j] for j in sorted(indexes)]\n",
    "    return ' '.join(final_sentences)"
   ]
  },
  {
   "cell_type": "markdown",
   "metadata": {},
   "source": [
    "### Repeat the classifier evaluation using SGDClassifier on Summarization text using simple summarizer"
   ]
  },
  {
   "cell_type": "code",
   "execution_count": 93,
   "metadata": {},
   "outputs": [],
   "source": [
    "news['newsSumSimple'] = news['news'].apply(simplesummarize)"
   ]
  },
  {
   "cell_type": "markdown",
   "metadata": {},
   "source": [
    "### Compare Summarization between Gensim and simple summarizer"
   ]
  },
  {
   "cell_type": "code",
   "execution_count": 94,
   "metadata": {},
   "outputs": [
    {
     "data": {
      "text/plain": [
       "array(['Yukos unit buyer faces loan claim\\n \\n The owners of embattled Russian oil giant Yukos are to ask the buyer of its former production unit to pay back a $900m (Ã\\x82Â£479m) loan.'],\n",
       "      dtype=object)"
      ]
     },
     "execution_count": 94,
     "metadata": {},
     "output_type": "execute_result"
    }
   ],
   "source": [
    "news['newsSumSimple'].iloc[2:3].values"
   ]
  },
  {
   "cell_type": "code",
   "execution_count": 95,
   "metadata": {},
   "outputs": [
    {
     "data": {
      "text/plain": [
       "array(['State-owned Rosneft bought the Yugansk unit for $9 bn in a sale forced by Russia to part settle a $27 bn tax claim against Yukos.'],\n",
       "      dtype=object)"
      ]
     },
     "execution_count": 95,
     "metadata": {},
     "output_type": "execute_result"
    }
   ],
   "source": [
    "news['newsSum'].iloc[2:3].values"
   ]
  },
  {
   "cell_type": "code",
   "execution_count": 96,
   "metadata": {},
   "outputs": [],
   "source": [
    "news['SumSimpleClean'] =news['newsSumSimple'].apply(clean_text)"
   ]
  },
  {
   "cell_type": "code",
   "execution_count": 97,
   "metadata": {},
   "outputs": [],
   "source": [
    "X_train,X_test,y_train,y_test =  train_test_split(news['SumSimpleClean'],news.iloc[:,5:10], random_state=42, test_size=0.20, shuffle=True)"
   ]
  },
  {
   "cell_type": "code",
   "execution_count": 98,
   "metadata": {},
   "outputs": [],
   "source": [
    "classifier=OneVsRestClassifier(SGDClassifier(), n_jobs=1)\n",
    "y_score=DoClassification(classifier,'decision_function' )\n",
    "computeMetrics(average_precision_score,y_score,'SGD_Simp')"
   ]
  },
  {
   "cell_type": "code",
   "execution_count": 99,
   "metadata": {},
   "outputs": [
    {
     "data": {
      "text/html": [
       "<div>\n",
       "<style scoped>\n",
       "    .dataframe tbody tr th:only-of-type {\n",
       "        vertical-align: middle;\n",
       "    }\n",
       "\n",
       "    .dataframe tbody tr th {\n",
       "        vertical-align: top;\n",
       "    }\n",
       "\n",
       "    .dataframe thead th {\n",
       "        text-align: right;\n",
       "    }\n",
       "</style>\n",
       "<table border=\"1\" class=\"dataframe\">\n",
       "  <thead>\n",
       "    <tr style=\"text-align: right;\">\n",
       "      <th></th>\n",
       "      <th>type</th>\n",
       "      <th>multinomialNB_average_precision_score</th>\n",
       "      <th>LinearSVC_average_precision_score</th>\n",
       "      <th>SGDClassifier_average_precision_score</th>\n",
       "      <th>SGD_Sum_average_precision_score</th>\n",
       "      <th>SGD_Simp_average_precision_score</th>\n",
       "    </tr>\n",
       "  </thead>\n",
       "  <tbody>\n",
       "    <tr>\n",
       "      <th>0</th>\n",
       "      <td>type_business</td>\n",
       "      <td>0.912010</td>\n",
       "      <td>0.892585</td>\n",
       "      <td>0.971753</td>\n",
       "      <td>0.916106</td>\n",
       "      <td>0.878020</td>\n",
       "    </tr>\n",
       "    <tr>\n",
       "      <th>1</th>\n",
       "      <td>type_entertainment</td>\n",
       "      <td>0.967122</td>\n",
       "      <td>0.928107</td>\n",
       "      <td>0.963583</td>\n",
       "      <td>0.855703</td>\n",
       "      <td>0.902977</td>\n",
       "    </tr>\n",
       "    <tr>\n",
       "      <th>2</th>\n",
       "      <td>type_politics</td>\n",
       "      <td>0.883380</td>\n",
       "      <td>0.941654</td>\n",
       "      <td>0.964069</td>\n",
       "      <td>0.900686</td>\n",
       "      <td>0.861711</td>\n",
       "    </tr>\n",
       "    <tr>\n",
       "      <th>3</th>\n",
       "      <td>type_sport</td>\n",
       "      <td>0.999905</td>\n",
       "      <td>0.982735</td>\n",
       "      <td>0.998127</td>\n",
       "      <td>0.950188</td>\n",
       "      <td>0.934880</td>\n",
       "    </tr>\n",
       "    <tr>\n",
       "      <th>4</th>\n",
       "      <td>type_tech</td>\n",
       "      <td>0.908059</td>\n",
       "      <td>0.956902</td>\n",
       "      <td>0.960112</td>\n",
       "      <td>0.934869</td>\n",
       "      <td>0.883719</td>\n",
       "    </tr>\n",
       "  </tbody>\n",
       "</table>\n",
       "</div>"
      ],
      "text/plain": [
       "                 type  multinomialNB_average_precision_score  \\\n",
       "0       type_business                               0.912010   \n",
       "1  type_entertainment                               0.967122   \n",
       "2       type_politics                               0.883380   \n",
       "3          type_sport                               0.999905   \n",
       "4           type_tech                               0.908059   \n",
       "\n",
       "   LinearSVC_average_precision_score  SGDClassifier_average_precision_score  \\\n",
       "0                           0.892585                               0.971753   \n",
       "1                           0.928107                               0.963583   \n",
       "2                           0.941654                               0.964069   \n",
       "3                           0.982735                               0.998127   \n",
       "4                           0.956902                               0.960112   \n",
       "\n",
       "   SGD_Sum_average_precision_score  SGD_Simp_average_precision_score  \n",
       "0                         0.916106                          0.878020  \n",
       "1                         0.855703                          0.902977  \n",
       "2                         0.900686                          0.861711  \n",
       "3                         0.950188                          0.934880  \n",
       "4                         0.934869                          0.883719  "
      ]
     },
     "execution_count": 99,
     "metadata": {},
     "output_type": "execute_result"
    }
   ],
   "source": [
    "accuracy_classifier"
   ]
  },
  {
   "cell_type": "markdown",
   "metadata": {},
   "source": [
    "### Repeat the classifier evaluation using SGDClassifier on Summarization text using Random summarizer"
   ]
  },
  {
   "cell_type": "code",
   "execution_count": 100,
   "metadata": {},
   "outputs": [],
   "source": [
    "news['Randomsample'] = news['news'].apply(randomsample)"
   ]
  },
  {
   "cell_type": "code",
   "execution_count": 101,
   "metadata": {},
   "outputs": [
    {
     "data": {
      "text/plain": [
       "array(['Yukos had filed for bankruptcy protection in a US court in an attempt to prevent the forced sale of its main production arm.'],\n",
       "      dtype=object)"
      ]
     },
     "execution_count": 101,
     "metadata": {},
     "output_type": "execute_result"
    }
   ],
   "source": [
    "news['Randomsample'].iloc[2:3].values"
   ]
  },
  {
   "cell_type": "code",
   "execution_count": 102,
   "metadata": {},
   "outputs": [],
   "source": [
    "news['RandomsampleClean'] = news['Randomsample'].apply(clean_text)"
   ]
  },
  {
   "cell_type": "code",
   "execution_count": 103,
   "metadata": {},
   "outputs": [],
   "source": [
    "X_train,X_test,y_train,y_test =  train_test_split(news['RandomsampleClean'],news.iloc[:,5:10], random_state=42, test_size=0.20, shuffle=True)"
   ]
  },
  {
   "cell_type": "code",
   "execution_count": 104,
   "metadata": {},
   "outputs": [],
   "source": [
    "classifier=OneVsRestClassifier(SGDClassifier(), n_jobs=1)\n",
    "y_score=DoClassification(classifier,'decision_function' )\n",
    "computeMetrics(average_precision_score,y_score,'SGD_Rand')"
   ]
  },
  {
   "cell_type": "code",
   "execution_count": 105,
   "metadata": {
    "scrolled": true
   },
   "outputs": [
    {
     "data": {
      "text/html": [
       "<div>\n",
       "<style scoped>\n",
       "    .dataframe tbody tr th:only-of-type {\n",
       "        vertical-align: middle;\n",
       "    }\n",
       "\n",
       "    .dataframe tbody tr th {\n",
       "        vertical-align: top;\n",
       "    }\n",
       "\n",
       "    .dataframe thead th {\n",
       "        text-align: right;\n",
       "    }\n",
       "</style>\n",
       "<table border=\"1\" class=\"dataframe\">\n",
       "  <thead>\n",
       "    <tr style=\"text-align: right;\">\n",
       "      <th></th>\n",
       "      <th>type</th>\n",
       "      <th>multinomialNB_average_precision_score</th>\n",
       "      <th>LinearSVC_average_precision_score</th>\n",
       "      <th>SGDClassifier_average_precision_score</th>\n",
       "      <th>SGD_Sum_average_precision_score</th>\n",
       "      <th>SGD_Simp_average_precision_score</th>\n",
       "      <th>SGD_Rand_average_precision_score</th>\n",
       "    </tr>\n",
       "  </thead>\n",
       "  <tbody>\n",
       "    <tr>\n",
       "      <th>0</th>\n",
       "      <td>type_business</td>\n",
       "      <td>0.912010</td>\n",
       "      <td>0.892585</td>\n",
       "      <td>0.971753</td>\n",
       "      <td>0.916106</td>\n",
       "      <td>0.878020</td>\n",
       "      <td>0.811873</td>\n",
       "    </tr>\n",
       "    <tr>\n",
       "      <th>1</th>\n",
       "      <td>type_entertainment</td>\n",
       "      <td>0.967122</td>\n",
       "      <td>0.928107</td>\n",
       "      <td>0.963583</td>\n",
       "      <td>0.855703</td>\n",
       "      <td>0.902977</td>\n",
       "      <td>0.738625</td>\n",
       "    </tr>\n",
       "    <tr>\n",
       "      <th>2</th>\n",
       "      <td>type_politics</td>\n",
       "      <td>0.883380</td>\n",
       "      <td>0.941654</td>\n",
       "      <td>0.964069</td>\n",
       "      <td>0.900686</td>\n",
       "      <td>0.861711</td>\n",
       "      <td>0.788775</td>\n",
       "    </tr>\n",
       "    <tr>\n",
       "      <th>3</th>\n",
       "      <td>type_sport</td>\n",
       "      <td>0.999905</td>\n",
       "      <td>0.982735</td>\n",
       "      <td>0.998127</td>\n",
       "      <td>0.950188</td>\n",
       "      <td>0.934880</td>\n",
       "      <td>0.890088</td>\n",
       "    </tr>\n",
       "    <tr>\n",
       "      <th>4</th>\n",
       "      <td>type_tech</td>\n",
       "      <td>0.908059</td>\n",
       "      <td>0.956902</td>\n",
       "      <td>0.960112</td>\n",
       "      <td>0.934869</td>\n",
       "      <td>0.883719</td>\n",
       "      <td>0.841515</td>\n",
       "    </tr>\n",
       "  </tbody>\n",
       "</table>\n",
       "</div>"
      ],
      "text/plain": [
       "                 type  multinomialNB_average_precision_score  \\\n",
       "0       type_business                               0.912010   \n",
       "1  type_entertainment                               0.967122   \n",
       "2       type_politics                               0.883380   \n",
       "3          type_sport                               0.999905   \n",
       "4           type_tech                               0.908059   \n",
       "\n",
       "   LinearSVC_average_precision_score  SGDClassifier_average_precision_score  \\\n",
       "0                           0.892585                               0.971753   \n",
       "1                           0.928107                               0.963583   \n",
       "2                           0.941654                               0.964069   \n",
       "3                           0.982735                               0.998127   \n",
       "4                           0.956902                               0.960112   \n",
       "\n",
       "   SGD_Sum_average_precision_score  SGD_Simp_average_precision_score  \\\n",
       "0                         0.916106                          0.878020   \n",
       "1                         0.855703                          0.902977   \n",
       "2                         0.900686                          0.861711   \n",
       "3                         0.950188                          0.934880   \n",
       "4                         0.934869                          0.883719   \n",
       "\n",
       "   SGD_Rand_average_precision_score  \n",
       "0                          0.811873  \n",
       "1                          0.738625  \n",
       "2                          0.788775  \n",
       "3                          0.890088  \n",
       "4                          0.841515  "
      ]
     },
     "execution_count": 105,
     "metadata": {},
     "output_type": "execute_result"
    }
   ],
   "source": [
    "accuracy_classifier"
   ]
  },
  {
   "cell_type": "code",
   "execution_count": 113,
   "metadata": {},
   "outputs": [
    {
     "data": {
      "text/html": [
       "<div>\n",
       "<style scoped>\n",
       "    .dataframe tbody tr th:only-of-type {\n",
       "        vertical-align: middle;\n",
       "    }\n",
       "\n",
       "    .dataframe tbody tr th {\n",
       "        vertical-align: top;\n",
       "    }\n",
       "\n",
       "    .dataframe thead th {\n",
       "        text-align: right;\n",
       "    }\n",
       "</style>\n",
       "<table border=\"1\" class=\"dataframe\">\n",
       "  <thead>\n",
       "    <tr style=\"text-align: right;\">\n",
       "      <th></th>\n",
       "      <th>Type</th>\n",
       "      <th>Variable</th>\n",
       "      <th>Value</th>\n",
       "    </tr>\n",
       "  </thead>\n",
       "  <tbody>\n",
       "    <tr>\n",
       "      <th>0</th>\n",
       "      <td>type_business</td>\n",
       "      <td>multinomialNB_average_precision_score</td>\n",
       "      <td>0.912010</td>\n",
       "    </tr>\n",
       "    <tr>\n",
       "      <th>1</th>\n",
       "      <td>type_entertainment</td>\n",
       "      <td>multinomialNB_average_precision_score</td>\n",
       "      <td>0.967122</td>\n",
       "    </tr>\n",
       "    <tr>\n",
       "      <th>2</th>\n",
       "      <td>type_politics</td>\n",
       "      <td>multinomialNB_average_precision_score</td>\n",
       "      <td>0.883380</td>\n",
       "    </tr>\n",
       "    <tr>\n",
       "      <th>3</th>\n",
       "      <td>type_sport</td>\n",
       "      <td>multinomialNB_average_precision_score</td>\n",
       "      <td>0.999905</td>\n",
       "    </tr>\n",
       "    <tr>\n",
       "      <th>4</th>\n",
       "      <td>type_tech</td>\n",
       "      <td>multinomialNB_average_precision_score</td>\n",
       "      <td>0.908059</td>\n",
       "    </tr>\n",
       "    <tr>\n",
       "      <th>5</th>\n",
       "      <td>type_business</td>\n",
       "      <td>LinearSVC_average_precision_score</td>\n",
       "      <td>0.892585</td>\n",
       "    </tr>\n",
       "    <tr>\n",
       "      <th>6</th>\n",
       "      <td>type_entertainment</td>\n",
       "      <td>LinearSVC_average_precision_score</td>\n",
       "      <td>0.928107</td>\n",
       "    </tr>\n",
       "    <tr>\n",
       "      <th>7</th>\n",
       "      <td>type_politics</td>\n",
       "      <td>LinearSVC_average_precision_score</td>\n",
       "      <td>0.941654</td>\n",
       "    </tr>\n",
       "    <tr>\n",
       "      <th>8</th>\n",
       "      <td>type_sport</td>\n",
       "      <td>LinearSVC_average_precision_score</td>\n",
       "      <td>0.982735</td>\n",
       "    </tr>\n",
       "    <tr>\n",
       "      <th>9</th>\n",
       "      <td>type_tech</td>\n",
       "      <td>LinearSVC_average_precision_score</td>\n",
       "      <td>0.956902</td>\n",
       "    </tr>\n",
       "    <tr>\n",
       "      <th>10</th>\n",
       "      <td>type_business</td>\n",
       "      <td>SGDClassifier_average_precision_score</td>\n",
       "      <td>0.971753</td>\n",
       "    </tr>\n",
       "    <tr>\n",
       "      <th>11</th>\n",
       "      <td>type_entertainment</td>\n",
       "      <td>SGDClassifier_average_precision_score</td>\n",
       "      <td>0.963583</td>\n",
       "    </tr>\n",
       "    <tr>\n",
       "      <th>12</th>\n",
       "      <td>type_politics</td>\n",
       "      <td>SGDClassifier_average_precision_score</td>\n",
       "      <td>0.964069</td>\n",
       "    </tr>\n",
       "    <tr>\n",
       "      <th>13</th>\n",
       "      <td>type_sport</td>\n",
       "      <td>SGDClassifier_average_precision_score</td>\n",
       "      <td>0.998127</td>\n",
       "    </tr>\n",
       "    <tr>\n",
       "      <th>14</th>\n",
       "      <td>type_tech</td>\n",
       "      <td>SGDClassifier_average_precision_score</td>\n",
       "      <td>0.960112</td>\n",
       "    </tr>\n",
       "    <tr>\n",
       "      <th>15</th>\n",
       "      <td>type_business</td>\n",
       "      <td>SGD_Sum_average_precision_score</td>\n",
       "      <td>0.916106</td>\n",
       "    </tr>\n",
       "    <tr>\n",
       "      <th>16</th>\n",
       "      <td>type_entertainment</td>\n",
       "      <td>SGD_Sum_average_precision_score</td>\n",
       "      <td>0.855703</td>\n",
       "    </tr>\n",
       "    <tr>\n",
       "      <th>17</th>\n",
       "      <td>type_politics</td>\n",
       "      <td>SGD_Sum_average_precision_score</td>\n",
       "      <td>0.900686</td>\n",
       "    </tr>\n",
       "    <tr>\n",
       "      <th>18</th>\n",
       "      <td>type_sport</td>\n",
       "      <td>SGD_Sum_average_precision_score</td>\n",
       "      <td>0.950188</td>\n",
       "    </tr>\n",
       "    <tr>\n",
       "      <th>19</th>\n",
       "      <td>type_tech</td>\n",
       "      <td>SGD_Sum_average_precision_score</td>\n",
       "      <td>0.934869</td>\n",
       "    </tr>\n",
       "    <tr>\n",
       "      <th>20</th>\n",
       "      <td>type_business</td>\n",
       "      <td>SGD_Simp_average_precision_score</td>\n",
       "      <td>0.878020</td>\n",
       "    </tr>\n",
       "    <tr>\n",
       "      <th>21</th>\n",
       "      <td>type_entertainment</td>\n",
       "      <td>SGD_Simp_average_precision_score</td>\n",
       "      <td>0.902977</td>\n",
       "    </tr>\n",
       "    <tr>\n",
       "      <th>22</th>\n",
       "      <td>type_politics</td>\n",
       "      <td>SGD_Simp_average_precision_score</td>\n",
       "      <td>0.861711</td>\n",
       "    </tr>\n",
       "    <tr>\n",
       "      <th>23</th>\n",
       "      <td>type_sport</td>\n",
       "      <td>SGD_Simp_average_precision_score</td>\n",
       "      <td>0.934880</td>\n",
       "    </tr>\n",
       "    <tr>\n",
       "      <th>24</th>\n",
       "      <td>type_tech</td>\n",
       "      <td>SGD_Simp_average_precision_score</td>\n",
       "      <td>0.883719</td>\n",
       "    </tr>\n",
       "    <tr>\n",
       "      <th>25</th>\n",
       "      <td>type_business</td>\n",
       "      <td>SGD_Rand_average_precision_score</td>\n",
       "      <td>0.811873</td>\n",
       "    </tr>\n",
       "    <tr>\n",
       "      <th>26</th>\n",
       "      <td>type_entertainment</td>\n",
       "      <td>SGD_Rand_average_precision_score</td>\n",
       "      <td>0.738625</td>\n",
       "    </tr>\n",
       "    <tr>\n",
       "      <th>27</th>\n",
       "      <td>type_politics</td>\n",
       "      <td>SGD_Rand_average_precision_score</td>\n",
       "      <td>0.788775</td>\n",
       "    </tr>\n",
       "    <tr>\n",
       "      <th>28</th>\n",
       "      <td>type_sport</td>\n",
       "      <td>SGD_Rand_average_precision_score</td>\n",
       "      <td>0.890088</td>\n",
       "    </tr>\n",
       "    <tr>\n",
       "      <th>29</th>\n",
       "      <td>type_tech</td>\n",
       "      <td>SGD_Rand_average_precision_score</td>\n",
       "      <td>0.841515</td>\n",
       "    </tr>\n",
       "  </tbody>\n",
       "</table>\n",
       "</div>"
      ],
      "text/plain": [
       "                  Type                               Variable     Value\n",
       "0        type_business  multinomialNB_average_precision_score  0.912010\n",
       "1   type_entertainment  multinomialNB_average_precision_score  0.967122\n",
       "2        type_politics  multinomialNB_average_precision_score  0.883380\n",
       "3           type_sport  multinomialNB_average_precision_score  0.999905\n",
       "4            type_tech  multinomialNB_average_precision_score  0.908059\n",
       "5        type_business      LinearSVC_average_precision_score  0.892585\n",
       "6   type_entertainment      LinearSVC_average_precision_score  0.928107\n",
       "7        type_politics      LinearSVC_average_precision_score  0.941654\n",
       "8           type_sport      LinearSVC_average_precision_score  0.982735\n",
       "9            type_tech      LinearSVC_average_precision_score  0.956902\n",
       "10       type_business  SGDClassifier_average_precision_score  0.971753\n",
       "11  type_entertainment  SGDClassifier_average_precision_score  0.963583\n",
       "12       type_politics  SGDClassifier_average_precision_score  0.964069\n",
       "13          type_sport  SGDClassifier_average_precision_score  0.998127\n",
       "14           type_tech  SGDClassifier_average_precision_score  0.960112\n",
       "15       type_business        SGD_Sum_average_precision_score  0.916106\n",
       "16  type_entertainment        SGD_Sum_average_precision_score  0.855703\n",
       "17       type_politics        SGD_Sum_average_precision_score  0.900686\n",
       "18          type_sport        SGD_Sum_average_precision_score  0.950188\n",
       "19           type_tech        SGD_Sum_average_precision_score  0.934869\n",
       "20       type_business       SGD_Simp_average_precision_score  0.878020\n",
       "21  type_entertainment       SGD_Simp_average_precision_score  0.902977\n",
       "22       type_politics       SGD_Simp_average_precision_score  0.861711\n",
       "23          type_sport       SGD_Simp_average_precision_score  0.934880\n",
       "24           type_tech       SGD_Simp_average_precision_score  0.883719\n",
       "25       type_business       SGD_Rand_average_precision_score  0.811873\n",
       "26  type_entertainment       SGD_Rand_average_precision_score  0.738625\n",
       "27       type_politics       SGD_Rand_average_precision_score  0.788775\n",
       "28          type_sport       SGD_Rand_average_precision_score  0.890088\n",
       "29           type_tech       SGD_Rand_average_precision_score  0.841515"
      ]
     },
     "execution_count": 113,
     "metadata": {},
     "output_type": "execute_result"
    }
   ],
   "source": [
    "accuracy_classifier_melt = accuracy_classifier.melt(id_vars='type').rename(columns=str.title)\n",
    "accuracy_classifier_melt"
   ]
  },
  {
   "cell_type": "code",
   "execution_count": 114,
   "metadata": {},
   "outputs": [
    {
     "data": {
      "image/png": "[encoded data removed]",
      "text/plain": [
       "<Figure size 720x576 with 1 Axes>"
      ]
     },
     "metadata": {
      "needs_background": "light"
     },
     "output_type": "display_data"
    }
   ],
   "source": [
    "accuracy_classifier_melt.dropna(inplace=True)\n",
    "fig, ax1 = plt.subplots(figsize=(10, 8))\n",
    "type=sns.barplot(x='Type', y='Value', hue='Variable', data=accuracy_classifier_melt[-20:])\n",
    "for item in type.get_xticklabels():\n",
    "    item.set_rotation(45)\n",
    "ax1.set(xlabel='Type', ylabel='Average precision score')\n",
    "sns.despine(fig)"
   ]
  },
  {
   "cell_type": "markdown",
   "metadata": {},
   "source": [
    "### Ratio of classification accuracy after summarization by Gensim vs original news "
   ]
  },
  {
   "cell_type": "code",
   "execution_count": 116,
   "metadata": {},
   "outputs": [
    {
     "data": {
      "text/plain": [
       "0.93822235218252"
      ]
     },
     "execution_count": 116,
     "metadata": {},
     "output_type": "execute_result"
    }
   ],
   "source": [
    "accuracy_classifier.SGD_Sum_average_precision_score.mean()/accuracy_classifier.SGDClassifier_average_precision_score.mean()"
   ]
  },
  {
   "cell_type": "markdown",
   "metadata": {},
   "source": [
    "### Ratio of classification accuracy after summarization by simple summarization vs original news "
   ]
  },
  {
   "cell_type": "code",
   "execution_count": 117,
   "metadata": {},
   "outputs": [
    {
     "data": {
      "text/plain": [
       "0.9184092720562261"
      ]
     },
     "execution_count": 117,
     "metadata": {},
     "output_type": "execute_result"
    }
   ],
   "source": [
    "accuracy_classifier.SGD_Simp_average_precision_score.mean()/accuracy_classifier.SGDClassifier_average_precision_score.mean()"
   ]
  },
  {
   "cell_type": "markdown",
   "metadata": {},
   "source": [
    "### Ratio of classification accuracy after random sencence selection vs original news "
   ]
  },
  {
   "cell_type": "code",
   "execution_count": 118,
   "metadata": {},
   "outputs": [
    {
     "data": {
      "text/plain": [
       "0.8380349731183301"
      ]
     },
     "execution_count": 118,
     "metadata": {},
     "output_type": "execute_result"
    }
   ],
   "source": [
    "accuracy_classifier.SGD_Rand_average_precision_score.mean()/accuracy_classifier.SGDClassifier_average_precision_score.mean()"
   ]
  },
  {
   "cell_type": "code",
   "execution_count": 119,
   "metadata": {},
   "outputs": [],
   "source": [
    "accuracy_classifier.to_csv('NewsPerformMetrics.csv')"
   ]
  },
  {
   "cell_type": "markdown",
   "metadata": {
    "collapsed": true
   },
   "source": [
    "### Conclusion: Summarization using Gensim is effective- key information is preserved so that accuracy of news classification using original news and news summarization is similar.\n",
    "### Simple summarizer is not as good as Gensim. Both are a lot better than random sampling. "
   ]
  }
 ],
 "metadata": {
  "kernelspec": {
   "display_name": "Python 3",
   "language": "python",
   "name": "python3"
  },
  "language_info": {
   "codemirror_mode": {
    "name": "ipython",
    "version": 3
   },
   "file_extension": ".py",
   "mimetype": "text/x-python",
   "name": "python",
   "nbconvert_exporter": "python",
   "pygments_lexer": "ipython3",
   "version": "3.7.3"
  }
 },
 "nbformat": 4,
 "nbformat_minor": 1
}
